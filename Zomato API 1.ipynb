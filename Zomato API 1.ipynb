{
 "cells": [
  {
   "cell_type": "code",
   "execution_count": 3,
   "metadata": {},
   "outputs": [],
   "source": [
    "#Authentication \n",
    "user_id='lionbeard17 '##pass ur user id here\n",
    "api_key='627c28c07ad221c65491bbffea6f5d54 '##please provide ur user id here"
   ]
  },
  {
   "cell_type": "markdown",
   "metadata": {},
   "source": [
    "# Zomato Cuisine\n",
    "Mexican cuisine began about 9,000 years ago, when agricultural communities such as the Maya formed, domesticating maize, creating the standard process of corn nixtamalization, and establishing their foodways.You are a huge fan of ‘Mexican’ cuisine. Now using the Zomato API you want to analyse the best restaurant serving the Mexican Cuisine, their locations, and cost for two, etc.There is a list of questions related to Mexican cuisines given in the next section."
   ]
  },
  {
   "cell_type": "code",
   "execution_count": 4,
   "metadata": {},
   "outputs": [],
   "source": [
    "#Required Libraries\n",
    "import requests\n",
    "import json"
   ]
  },
  {
   "cell_type": "markdown",
   "metadata": {},
   "source": [
    "#  Mexican Cusine Id"
   ]
  },
  {
   "cell_type": "code",
   "execution_count": 5,
   "metadata": {
    "scrolled": true
   },
   "outputs": [
    {
     "name": "stdout",
     "output_type": "stream",
     "text": [
      "Cuisine_Id:  73\n"
     ]
    }
   ],
   "source": [
    "#params\n",
    "data={'city_id':1}\n",
    "#headers\n",
    "header={'User_Agent':user_id,'user_key':api_key}\n",
    "\n",
    "#requests\n",
    "response=requests.get('https://developers.zomato.com/api/v2.1/cuisines',headers=header,params=data)\n",
    "\n",
    "#Python Files\n",
    "zomato_data=response.json()\n",
    "#print(zomato_data)\n",
    "#finding Mexican Cuisines_id\n",
    "\n",
    "for i in zomato_data['cuisines']:\n",
    "    if i['cuisine']['cuisine_name']=='Mexican':\n",
    "        #print(i)\n",
    "        print('Cuisine_Id: ',i['cuisine']['cuisine_id'])\n"
   ]
  },
  {
   "cell_type": "markdown",
   "metadata": {},
   "source": [
    "# Entity-Id and Entity type of Connaught Place"
   ]
  },
  {
   "cell_type": "code",
   "execution_count": 28,
   "metadata": {
    "scrolled": false
   },
   "outputs": [
    {
     "name": "stdout",
     "output_type": "stream",
     "text": [
      "subzone 104\n"
     ]
    }
   ],
   "source": [
    "#params\n",
    "data={'query':\"Connaught Place\"}\n",
    "\n",
    "#requests\n",
    "response=requests.get('https://developers.zomato.com/api/v2.1/locations',params=data,headers=header)\n",
    "data=response.json() #pyhon change\n",
    "#print(data)\n",
    "for i in data['location_suggestions']:\n",
    "    print(i['entity_type'],i['entity_id'])"
   ]
  },
  {
   "cell_type": "markdown",
   "metadata": {},
   "source": [
    "# Top 10 best-Resturant serving 'Maxican Cuisine' present in connaught place"
   ]
  },
  {
   "cell_type": "code",
   "execution_count": 61,
   "metadata": {
    "scrolled": true
   },
   "outputs": [
    {
     "name": "stdout",
     "output_type": "stream",
     "text": [
      "Restaurant Name| Aggregate Rating| Restaurant ID\n",
      "=-=-=-=-=-=-=-=-=-=-=-=-=-=-=-=-=-=-=-=-=-=-=-=-=-=-=-\n",
      "Station Bar 4.5 18851371\n",
      "Chili's Grill & Bar 4.5 18537536\n",
      "Tamasha 4.4 18238278\n",
      "Xero Degrees 4.4 18729557\n",
      "Master Of Malts 4.4 18391149\n",
      "The Darzi Bar & Kitchen 4.3 18423151\n",
      "Local 4.3 18382360\n",
      "The Junkyard Cafe 4.3 313256\n",
      "Ministry Of Beer 4.3 18418277\n",
      "Teddy Boy 4.3 18281985\n"
     ]
    }
   ],
   "source": [
    "#params\n",
    "data={'entity_id':104,'entity_type':'subzone','cuisines':'73','sort':'rating','order':'desc'}\n",
    "\n",
    "#getting data from url\n",
    "response=requests.get('https://developers.zomato.com/api/v2.1/search',headers=header,params=data)\n",
    "data_restaurant=response.json()\n",
    "#print(data_resturant)\n",
    "\n",
    "#printing top 10 resturant\n",
    "print('Restaurant Name|','Aggregate Rating|','Restaurant ID')\n",
    "print('=-=-=-=-=-=-=-=-=-=-=-=-=-=-=-=-=-=-=-=-=-=-=-=-=-=-=-')\n",
    "\n",
    "for i in data_restaurant['restaurants'][:10]: #slicing upto 10\n",
    "    print(i['restaurant']['name'],    i['restaurant']['user_rating']['aggregate_rating'],    i['restaurant']['id'])"
   ]
  },
  {
   "cell_type": "markdown",
   "metadata": {},
   "source": [
    "    # Best restaurant for ‘Mexican’ cuisine with category type ‘ Cafes’ present at Connaught Place"
   ]
  },
  {
   "cell_type": "code",
   "execution_count": 42,
   "metadata": {},
   "outputs": [
    {
     "name": "stdout",
     "output_type": "stream",
     "text": [
      "6\n"
     ]
    }
   ],
   "source": [
    "#DOUBTS\n",
    "#params\n",
    "#data={'entity_id':104,'entity_type':'subzone','cuisines':'73','name':'Cafes','sort':'rating','order':'desc'}\n",
    "\n",
    "#getting data from url\n",
    "response=requests.get('https://developers.zomato.com/api/v2.1/categories',headers=header)\n",
    "\n",
    "data=response.json()#python conversion\n",
    "#print(data)\n",
    "#print('Restaurant Name|','Aggregate Rating|','Restaurant Id')\n",
    "#print('-=-=-=-=-=-=-=-=-=-=-=-=-=-=-=-=-=-=-=-=-=-=-=-=-=-=-=-')\n",
    "\n",
    "for i in data['categories']:\n",
    "    if i['categories']['name'] == 'Cafes':\n",
    "        print(i['categories']['id'])"
   ]
  },
  {
   "cell_type": "markdown",
   "metadata": {},
   "source": [
    "# Best Rated restaurant for 'Mexican' cuisine with category type \"Cafes\" at connaught place"
   ]
  },
  {
   "cell_type": "code",
   "execution_count": 120,
   "metadata": {},
   "outputs": [
    {
     "name": "stdout",
     "output_type": "stream",
     "text": [
      "Xero Degrees 4.4 18729557\n",
      "Chaayos - Meri Wali Chai 4.2 18237315\n",
      "The Art House Restaurant 3.9 18863766\n",
      "Cafe Coffee Day - The Square 3.6 303034\n"
     ]
    }
   ],
   "source": [
    "#params\n",
    "data={'entity_id':104,'entity_type':'subzone','cuisines':'73',\"category\":\"6\",'sort':'rating','order':'desc'}\n",
    "\n",
    "#getting Data\n",
    "response=requests.get('https://developers.zomato.com/api/v2.1/search',params=data,headers=header)\n",
    "data=response.json()\n",
    "#print(data)\n",
    "\n",
    "for i in data['restaurants']:\n",
    "    print(i['restaurant']['name'], i['restaurant']['user_rating']['aggregate_rating'], i['restaurant']['id'])"
   ]
  },
  {
   "cell_type": "markdown",
   "metadata": {},
   "source": [
    "# review rating"
   ]
  },
  {
   "cell_type": "code",
   "execution_count": 124,
   "metadata": {},
   "outputs": [
    {
     "name": "stdout",
     "output_type": "stream",
     "text": [
      "Anonymous Kumar | 2 | Food was nice but it could have easy and convenient if you serve your food on plate instead of giving in beer glass.\n",
      "Ashima Bhasin | 5 | xero degrees is the best when it comes to white sauce pasta, no second thoughts!!\n",
      "Food | 4 | The freak shakes were nice ☺️ Oreo freak shake was my favourite The pasta was tasty too and the fries were also amazing\n",
      "Sonia | 5 | Xero degrees is located in Connaught place L block. I visited this place few days back with my friends. We tried their garlic bread, popcorn fries, watermelon mojito, makhni fries, baked pasta and shakes. All the items were really great in taste and quantity. I would love to visit them again.\n",
      "Tea And Rusk | 5 | Everything was super delicious specially the Alfredo spaghetti was my favourite the new burgers in their menu was so good I tried Game of Thrones which were cute little burgers also they had paneer tikki which was best. We ordered Oreo nutella  freakshake which was thick and amazing.\n"
     ]
    }
   ],
   "source": [
    "#params\n",
    "data={'res_id':18729557}\n",
    "\n",
    "#get data requests\n",
    "response=requests.get('https://developers.zomato.com/api/v2.1/reviews',params=data,headers=header)\n",
    "data=response.json()\n",
    "#print(data)\n",
    "\n",
    "for i in data['user_reviews']:\n",
    "    print(i[\"review\"][\"user\"][\"name\"],'|',i[\"review\"][\"rating\"],'|',i[\"review\"][\"review_text\"])"
   ]
  },
  {
   "cell_type": "markdown",
   "metadata": {},
   "source": [
    "# Details of Pa Pa Ya restaurant and Print the average cost and user rating for two cuisines and address"
   ]
  },
  {
   "cell_type": "code",
   "execution_count": 64,
   "metadata": {},
   "outputs": [
    {
     "name": "stdout",
     "output_type": "stream",
     "text": [
      "4.4\n",
      "2500\n",
      "Asian, Chinese, Thai, Japanese, Sushi, Malaysian, Momos, Beverages\n",
      "A-3, Select Citywalk, District Centre, Saket, New Delhi\n"
     ]
    }
   ],
   "source": [
    "#getting entity id and entity type\n",
    "#params\n",
    "\"\"\"data={'entity_id':1,'entity_type':'city','cuisines':'3'}\n",
    "\n",
    "#getting data from url\n",
    "response=requests.get('https://developers.zomato.com/api/v2.1/search',headers=header,params=data)\n",
    "data_restaurant=response.json()\n",
    "#print(data_resturant)\n",
    "\n",
    "#printing top 10 resturant\n",
    "print('Restaurant Name|','Aggregate Rating|','Restaurant ID')\n",
    "print('=-=-=-=-=-=-=-=-=-=-=-=-=-=-=-=-=-=-=-=-=-=-=-=-=-=-=-')\n",
    "\n",
    "for i in data_restaurant['restaurants'][:10]: #slicing upto 10\n",
    "    print(i['restaurant']['name'],    i['restaurant']['user_rating']['aggregate_rating'],    i['restaurant']['id'])\"\"\"\n",
    "\n",
    "#res_id=18429148\n",
    "\n",
    "\n",
    "#params\n",
    "data={'res_id':18429148}\n",
    "\n",
    "#getting the url\n",
    "response=requests.get('https://developers.zomato.com/api/v2.1/restaurant',headers=header,params=data)\n",
    "data=response.json()\n",
    "\n",
    "#print(data)\n",
    "\n",
    "print(data['user_rating']['aggregate_rating']) \n",
    "print(data['average_cost_for_two']) \n",
    "print(data['cuisines']) \n",
    "print(data['location']['address'])"
   ]
  },
  {
   "cell_type": "markdown",
   "metadata": {},
   "source": [
    "# online table reservation is supported in \"Pa Pa Ya\" restaurant or not using Zomato API."
   ]
  },
  {
   "cell_type": "code",
   "execution_count": 65,
   "metadata": {},
   "outputs": [
    {
     "name": "stdout",
     "output_type": "stream",
     "text": [
      "yes\n"
     ]
    }
   ],
   "source": [
    "#params\n",
    "data={'res_id':18429148}\n",
    "\n",
    "#getting url\n",
    "response=requests.get('https://developers.zomato.com/api/v2.1/restaurant',params=data,headers=header)\n",
    "data=response.json()\n",
    "if data['is_table_reservation_supported']==1:\n",
    "    print(\"yes\")\n",
    "else:\n",
    "    print(\"no\")"
   ]
  },
  {
   "cell_type": "markdown",
   "metadata": {},
   "source": [
    "# review of Pa Pa Ya"
   ]
  },
  {
   "cell_type": "code",
   "execution_count": 76,
   "metadata": {},
   "outputs": [
    {
     "name": "stdout",
     "output_type": "stream",
     "text": [
      "Amit Jaiswal 5 \n",
      "Riya Marwah 5 Impeccable service by Vikram. His positive attitude and great communication skills deserves appreciation. He caters each and every customer with a smile. Fantastic service by him.\n",
      "Ruchi Kapur 5 Pa Pa Ya is my favourite restaurant for sushi’s and dim sum . Me and my family visited it on my birthday and the food was above par excellence and the desert was the main highlight of our dinner and so would really recommend coming here and enjoying the time friends and family!!\n",
      "Bobby 5 \n",
      "Muskan Kumari 4 \n"
     ]
    }
   ],
   "source": [
    "#params for Pa Pa Ya\n",
    "data={'res_id':18429148}\n",
    "\n",
    "#get request\n",
    "response=requests.get('https://developers.zomato.com/api/v2.1/reviews',params=data,headers=header)\n",
    "\n",
    "data=response.json()\n",
    "#print(data)\n",
    "for i in data['user_reviews']:\n",
    "    print(i['review']['user']['name'],i['review']['rating'],i['review']['review_text'])\n",
    "    "
   ]
  },
  {
   "cell_type": "markdown",
   "metadata": {},
   "source": [
    "# Cuisine Id of cuisine BBQ using zomato API near coding ninjas"
   ]
  },
  {
   "cell_type": "code",
   "execution_count": 84,
   "metadata": {
    "scrolled": false
   },
   "outputs": [
    {
     "name": "stdout",
     "output_type": "stream",
     "text": [
      "Cuisine_id of BBQ is 193\n"
     ]
    }
   ],
   "source": [
    "#params\n",
    "data={'lat':'28.697522','lon':'77.140681','radius':'400'}\n",
    "\n",
    "#get requests from urls\n",
    "response=requests.get('https://developers.zomato.com/api/v2.1/cuisines',params=data,headers=header)\n",
    "data=response.json()#changing in python format\n",
    "#print(data)\n",
    "\n",
    "for i in data['cuisines']:\n",
    "    #print(i)\n",
    "    if i['cuisine']['cuisine_name'] == 'BBQ':\n",
    "        print('Cuisine_id of BBQ is',i['cuisine']['cuisine_id'])\n",
    "        "
   ]
  },
  {
   "cell_type": "markdown",
   "metadata": {},
   "source": [
    "# top 10 resturants near coding ninja serving BBQ"
   ]
  },
  {
   "cell_type": "code",
   "execution_count": 6,
   "metadata": {
    "scrolled": false
   },
   "outputs": [
    {
     "name": "stdout",
     "output_type": "stream",
     "text": [
      "Themis Barbecue House 4.2 18204820 Shop 251, 2nd Floor, Near Stanmax Aggarwal Millennium Tower 1, Netaji Subhash Place, New Delhi\n",
      "Tandoori Nights 0 19661940 Main Circle, Near TV Tower, Pitampura, New Delhi\n",
      "UBQ by Barbeque Nation 3.6 18889769 101 & 102, A-7, Agarwal Corporate Heights, Pitampura Road, Netaji Subhash Place, New Delhi\n",
      "Barbeque Nation 4.2 9561 101 - 102, 1st Floor, Agarwal Corporate Heights, Netaji Subhash Place, New Delhi\n",
      "Amazings Kitchen 0 19370424 G-5, RG Complex 1 Sector 14, Prashant Vihar, New Delhi\n",
      "Anytime Chicken 0 19520153 Al -113/114, 3rd Floor, Shalimar Bagh, New Delhi\n",
      "UBQ by Barbeque Nation 3.9 19082741 C-35/17, Industrial Area, Lawrence Road, New Delhi\n",
      "Moet's Barbeque 0 19238917 1, DDA Market, Alipur, New Delhi\n",
      "BBQ Express By The Barbeque Company 4.0 19494102 Ground Floor, Building 28, Central Market, Punjabi Bagh, New Delhi\n",
      "UBQ by Barbeque Nation 3.7 18889760 601, 6th Floor, Unity One, MLCP Plot, Rohini West Metro Station Complex, Rohini, New Delhi\n"
     ]
    }
   ],
   "source": [
    "#Doubts\n",
    "#finding enity of BBQ\n",
    "#data={'lat':'28.697522','lon':'77.140681','radius':'400'}\n",
    "\n",
    "#requests\n",
    "#response=requests.get('https://developers.zomato.com/api/v2.1/locations',params=data,headers=header)\n",
    "#data=response.json() #pyhon change\n",
    "#print(data)\n",
    "#for i in data['location_suggestions']:\n",
    "#    print(i['entity_type'],i['entity_id'])\n",
    "\n",
    "#entity_type=subzone , entity_id=282\n",
    "\n",
    "#params\n",
    "\n",
    "data={'lat':'28.697522','lon':'77.140681','cuisines':193,'sort':'real_distance','order':'desc'}\n",
    "\n",
    "#get url requests\n",
    "response=requests.get('https://developers.zomato.com/api/v2.1/search',params=data,headers=header)\n",
    "data=response.json()\n",
    "#print(data['restaurants'])\n",
    "\n",
    "\n",
    "for i in data['restaurants'][0:10]:\n",
    "    #print(i['restaurant']['name'],i['restaurant']['cuisines'])\n",
    "    print(i['restaurant']['name'],i['restaurant']['user_rating']['aggregate_rating'], i['restaurant']['id'],i['restaurant']['location']['address'])    "
   ]
  },
  {
   "cell_type": "markdown",
   "metadata": {},
   "source": [
    "# Most Nearest Restaturant to coding ninja and it's review "
   ]
  },
  {
   "cell_type": "code",
   "execution_count": 126,
   "metadata": {},
   "outputs": [
    {
     "name": "stdout",
     "output_type": "stream",
     "text": [
      "Shivam Rana 1 \n",
      "Nikhil 1 Everything was great about this restaurant but giving it 1 star coz it's closed for ever now n zomato hasn't updated this on there app yet...\n",
      "Palak Gupta 1 Since morning i am trying to call them and they keep rejecting my call. What kind of service is this? Phone being busy is understandable but why would you reject the call?\n",
      "Garima Arora 5 Wow place for family .. friends or anyone i have enjoyed my family dinner food is superb with quality and service and staff was superb .. amamzingly attend  and serviced.. mouth watering food barbeque snacks dinner deserts 😍♥️\n",
      "ASHISH GUPTA 1 I went there because of the reviews and the food was pathetic. Go for pirates of grill. It will be worth it\n"
     ]
    }
   ],
   "source": [
    "#Themis Barbeque House id=18204820\n",
    "#params\n",
    "data={'res_id':'18204820'}\n",
    "\n",
    "#request data url\n",
    "response=requests.get('https://developers.zomato.com/api/v2.1/reviews',params=data,headers=header)\n",
    "\n",
    "data_review=response.json()\n",
    "#print(data_review)\n",
    "for i in data_review['user_reviews'][0:5]:\n",
    "    print(i['review']['user']['name'],i['review']['rating'],i['review']['review_text'])"
   ]
  },
  {
   "cell_type": "code",
   "execution_count": 134,
   "metadata": {},
   "outputs": [
    {
     "name": "stdout",
     "output_type": "stream",
     "text": [
      "Indian Accent 4.9 2004 The Lodhi, Lodhi Road\n",
      "Cafe Lota 4.9 305525 Pragati Maidan\n",
      "Kuremal Mohan Lal Kulfi Wale 4.9 303642 Chawri Bazar\n",
      "The Big Chill 4.9 1614 Khan Market\n",
      "Dum-Pukht - ITC Maurya 4.9 2744 ITC Maurya, Chanakyapuri\n",
      "Cocktails & Dreams, Speakeasy 4.9 300716 Sector 15\n",
      "The Big Chill 4.9 8244 Khan Market\n",
      "Natural Ice Cream 4.8 310143 Connaught Place\n",
      "The Big Chill Cafe 4.8 18919107 The Colonnade, Connaught Place\n",
      "The Big Chill 4.8 3192 DLF Avenue, Saket\n"
     ]
    }
   ],
   "source": [
    "#params\n",
    "\n",
    "data={'lat' : '28.697522', 'lon': '77.140681','radius' : '400', 'sort' : 'rating', 'order' : 'desc'}\n",
    "\n",
    "#get url requests\n",
    "response = requests.get('https://developers.zomato.com/api/v2.1/search', params = data, headers = header)\n",
    "data_list=response.json()\n",
    "#print(data_list)\n",
    "\n",
    "for i in data_list['restaurants'][0:10]:\n",
    "    print(i['restaurant']['name'],i['restaurant']['user_rating']['aggregate_rating'],i['restaurant']['R']['res_id'],i['restaurant']['location']['locality'])"
   ]
  },
  {
   "cell_type": "code",
   "execution_count": null,
   "metadata": {},
   "outputs": [],
   "source": []
  }
 ],
 "metadata": {
  "kernelspec": {
   "display_name": "Python 3",
   "language": "python",
   "name": "python3"
  },
  "language_info": {
   "codemirror_mode": {
    "name": "ipython",
    "version": 3
   },
   "file_extension": ".py",
   "mimetype": "text/x-python",
   "name": "python",
   "nbconvert_exporter": "python",
   "pygments_lexer": "ipython3",
   "version": "3.7.6"
  }
 },
 "nbformat": 4,
 "nbformat_minor": 4
}
